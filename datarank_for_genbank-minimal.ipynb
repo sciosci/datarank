{
 "cells": [
  {
   "cell_type": "code",
   "execution_count": 1,
   "metadata": {},
   "outputs": [],
   "source": [
    "from pyspark.sql import SparkSession\n",
    "from pyspark.sql import functions as fn\n",
    "import pandas as pd"
   ]
  },
  {
   "cell_type": "code",
   "execution_count": 2,
   "metadata": {},
   "outputs": [],
   "source": [
    "spark = SparkSession.builder.\\\n",
    "    config('spark.driver.memory', '28g').\\\n",
    "    getOrCreate()"
   ]
  },
  {
   "cell_type": "markdown",
   "metadata": {},
   "source": [
    "# Load visits"
   ]
  },
  {
   "cell_type": "code",
   "execution_count": 3,
   "metadata": {},
   "outputs": [],
   "source": [
    "data1 = pd.read_excel('data/LA_1308_Nuccore_Top_1000_by_Sessions.xlsx')\n",
    "data2 = pd.read_excel('data/LA_1308_Protein_Top_1000_by_Sessions.xlsx')"
   ]
  },
  {
   "cell_type": "code",
   "execution_count": 4,
   "metadata": {},
   "outputs": [],
   "source": [
    "ref_doi = spark.read.csv('data/DOI.merge.csv', header=True, inferSchema=True)"
   ]
  },
  {
   "cell_type": "code",
   "execution_count": 5,
   "metadata": {},
   "outputs": [],
   "source": [
    "doi_refid = ref_doi.select('DOI', 'refid').where('DOI <> \"NA\"').toPandas()"
   ]
  },
  {
   "cell_type": "code",
   "execution_count": 6,
   "metadata": {},
   "outputs": [],
   "source": [
    "visits = data1.assign(refid = data1['Nuccore_GI#']).merge(doi_refid)[['refid', 'Hits']].drop_duplicates()"
   ]
  },
  {
   "cell_type": "code",
   "execution_count": 7,
   "metadata": {},
   "outputs": [],
   "source": [
    "visits_2015 = spark.createDataFrame(visits)"
   ]
  },
  {
   "cell_type": "markdown",
   "metadata": {},
   "source": [
    "# Systematic run of the algorithm"
   ]
  },
  {
   "cell_type": "code",
   "execution_count": 8,
   "metadata": {},
   "outputs": [],
   "source": [
    "vertices_new_id = spark.read.parquet('data/genbank_vertices_new_id.parquet').\\\n",
    "    withColumn('age', 2018-fn.col('year'))\n",
    "edges_new_id = spark.read.parquet('data/genbank_edges_new_id.parquet')"
   ]
  },
  {
   "cell_type": "code",
   "execution_count": 9,
   "metadata": {},
   "outputs": [],
   "source": [
    "# run the experiments below\n",
    "\n",
    "# import os\n",
    "\n",
    "# for pub_decay_time in [1, 5, 20]:\n",
    "#     for data_decay_time in [1, 5, 20]:\n",
    "#         for alpha in [0.25, 0.5]:\n",
    "#             print(pub_decay_time, data_decay_time, alpha)\n",
    "#             filename = 'data/results/ranks_p{}_d{}_a{}.parquet'.format(pub_decay_time, data_decay_time, int(alpha*100))\n",
    "#             if not os.path.isdir(filename):\n",
    "#                 rho, transitions = datarank.compute_rho_transitions(vertices_new_id, edges_new_id, \n",
    "#                     pub_decay_time=pub_decay_time, data_decay_time=data_decay_time)\n",
    "#                 ranks = datarank.estimate_datarank(rho, transitions, alpha=alpha, \n",
    "#                     tol=0.1, max_iter=10, verbose=True)\n",
    "#                 print('saving ... ', filename)\n",
    "#                 ranks.write.parquet(filename)\n",
    "#                 ranks.unpersist()"
   ]
  },
  {
   "cell_type": "code",
   "execution_count": 10,
   "metadata": {},
   "outputs": [
    {
     "name": "stdout",
     "output_type": "stream",
     "text": [
      "Loading data/results/ranks_p1_d5_a50.parquet\n"
     ]
    }
   ],
   "source": [
    "# example of the most important submissions by data rank\n",
    "filename = 'data/results/ranks_p{}_d{}_a{}.parquet'.format(1, 5, int(0.5*100))\n",
    "print(\"Loading {}\".format(filename))\n",
    "ranks = spark.read.parquet(filename)"
   ]
  },
  {
   "cell_type": "code",
   "execution_count": 11,
   "metadata": {},
   "outputs": [],
   "source": [
    "doi_extract = fn.regexp_extract('DOI_i', r'^10.\\d{4,9}/[-._;()/:A-Z0-9]+$',0)"
   ]
  },
  {
   "cell_type": "code",
   "execution_count": 12,
   "metadata": {},
   "outputs": [],
   "source": [
    "is_doi = fn.length(doi_extract) > 0"
   ]
  },
  {
   "cell_type": "code",
   "execution_count": 13,
   "metadata": {},
   "outputs": [],
   "source": [
    "is_refid = ~fn.isnull(fn.col('DOI_i').cast('int'))"
   ]
  },
  {
   "cell_type": "code",
   "execution_count": 14,
   "metadata": {},
   "outputs": [],
   "source": [
    "n_citations = edges_new_id.\\\n",
    "    groupBy('DOI_j').\\\n",
    "    agg(fn.count('*').alias('n_citations')).\\\n",
    "    withColumnRenamed('DOI_j', 'DOI_i').\\\n",
    "    where(is_doi | is_refid)"
   ]
  },
  {
   "cell_type": "code",
   "execution_count": 15,
   "metadata": {},
   "outputs": [],
   "source": [
    "plotting_data = ranks.join(vertices_new_id, 'i').\\\n",
    "                join(visits_2015.selectExpr('refid as DOI_i', 'Hits'), 'DOI_i').\\\n",
    "                join(n_citations, 'DOI_i').toPandas()"
   ]
  },
  {
   "cell_type": "code",
   "execution_count": 16,
   "metadata": {},
   "outputs": [
    {
     "data": {
      "text/html": [
       "<div>\n",
       "<style scoped>\n",
       "    .dataframe tbody tr th:only-of-type {\n",
       "        vertical-align: middle;\n",
       "    }\n",
       "\n",
       "    .dataframe tbody tr th {\n",
       "        vertical-align: top;\n",
       "    }\n",
       "\n",
       "    .dataframe thead th {\n",
       "        text-align: right;\n",
       "    }\n",
       "</style>\n",
       "<table border=\"1\" class=\"dataframe\">\n",
       "  <thead>\n",
       "    <tr style=\"text-align: right;\">\n",
       "      <th></th>\n",
       "      <th></th>\n",
       "      <th>Hits</th>\n",
       "      <th>n_citations</th>\n",
       "      <th>value</th>\n",
       "    </tr>\n",
       "    <tr>\n",
       "      <th>type</th>\n",
       "      <th></th>\n",
       "      <th></th>\n",
       "      <th></th>\n",
       "      <th></th>\n",
       "    </tr>\n",
       "  </thead>\n",
       "  <tbody>\n",
       "    <tr>\n",
       "      <th rowspan=\"3\" valign=\"top\">data</th>\n",
       "      <th>Hits</th>\n",
       "      <td>1.000000</td>\n",
       "      <td>0.188737</td>\n",
       "      <td>-0.377998</td>\n",
       "    </tr>\n",
       "    <tr>\n",
       "      <th>n_citations</th>\n",
       "      <td>0.188737</td>\n",
       "      <td>1.000000</td>\n",
       "      <td>0.128379</td>\n",
       "    </tr>\n",
       "    <tr>\n",
       "      <th>value</th>\n",
       "      <td>-0.377998</td>\n",
       "      <td>0.128379</td>\n",
       "      <td>1.000000</td>\n",
       "    </tr>\n",
       "  </tbody>\n",
       "</table>\n",
       "</div>"
      ],
      "text/plain": [
       "                      Hits  n_citations     value\n",
       "type                                             \n",
       "data Hits         1.000000     0.188737 -0.377998\n",
       "     n_citations  0.188737     1.000000  0.128379\n",
       "     value       -0.377998     0.128379  1.000000"
      ]
     },
     "execution_count": 16,
     "metadata": {},
     "output_type": "execute_result"
    }
   ],
   "source": [
    "plotting_data[['value', 'n_citations', 'type', 'Hits']].groupby('type').corr()"
   ]
  }
 ],
 "metadata": {
  "kernelspec": {
   "display_name": "Python 3",
   "language": "python",
   "name": "python3"
  },
  "language_info": {
   "codemirror_mode": {
    "name": "ipython",
    "version": 3
   },
   "file_extension": ".py",
   "mimetype": "text/x-python",
   "name": "python",
   "nbconvert_exporter": "python",
   "pygments_lexer": "ipython3",
   "version": "3.6.5"
  }
 },
 "nbformat": 4,
 "nbformat_minor": 2
}
